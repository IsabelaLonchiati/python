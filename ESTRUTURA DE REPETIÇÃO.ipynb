{
 "cells": [
  {
   "cell_type": "code",
   "execution_count": 1,
   "metadata": {},
   "outputs": [
    {
     "name": "stdout",
     "output_type": "stream",
     "text": [
      "0\n",
      "1\n",
      "2\n",
      "3\n",
      "4\n",
      "5\n",
      "6\n",
      "7\n",
      "8\n",
      "9\n",
      "10\n"
     ]
    }
   ],
   "source": [
    "x = 0 \n",
    "while x <= 10:\n",
    "    print(x)\n",
    "    x += 1\n",
    "\n"
   ]
  },
  {
   "cell_type": "markdown",
   "metadata": {},
   "source": [
    "Programa que receba o numero e mostre o calculo da tabuada"
   ]
  },
  {
   "cell_type": "code",
   "execution_count": 4,
   "metadata": {},
   "outputs": [
    {
     "name": "stdout",
     "output_type": "stream",
     "text": [
      "**********************tabuada simples***********************\n",
      "5*1 = 5\n",
      "5*2 = 10\n",
      "5*3 = 15\n",
      "5*4 = 20\n",
      "5*5 = 25\n",
      "5*6 = 30\n",
      "5*7 = 35\n",
      "5*8 = 40\n",
      "5*9 = 45\n",
      "5*10 = 50\n"
     ]
    }
   ],
   "source": [
    "from os import system\n",
    "system ('cls')\n",
    "titulo = 'tabuada simples'\n",
    "print(titulo.center(60, '*'))\n",
    "\n",
    "mult = int(input('\\ninforme o multiplicador'))\n",
    "\n",
    "x = 1\n",
    "while x <= 10:\n",
    "    print(f'{mult}*{x} = {mult * x}')\n",
    "    x += 1"
   ]
  },
  {
   "cell_type": "code",
   "execution_count": null,
   "metadata": {},
   "outputs": [],
   "source": [
    "num = 0\n",
    "total = 100\n",
    "\n",
    "while num <= total:\n",
    "    print(num)"
   ]
  }
 ],
 "metadata": {
  "interpreter": {
   "hash": "4501266478d310386b0f6f856fab491bc36fdad875eada08785f11b6664d716d"
  },
  "kernelspec": {
   "display_name": "Python 3.10.8 64-bit (windows store)",
   "language": "python",
   "name": "python3"
  },
  "language_info": {
   "codemirror_mode": {
    "name": "ipython",
    "version": 3
   },
   "file_extension": ".py",
   "mimetype": "text/x-python",
   "name": "python",
   "nbconvert_exporter": "python",
   "pygments_lexer": "ipython3",
   "version": "3.11.0"
  },
  "orig_nbformat": 4
 },
 "nbformat": 4,
 "nbformat_minor": 2
}
