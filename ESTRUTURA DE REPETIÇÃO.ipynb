{
 "cells": [
  {
   "cell_type": "code",
   "execution_count": 1,
   "metadata": {},
   "outputs": [
    {
     "name": "stdout",
     "output_type": "stream",
     "text": [
      "0\n",
      "1\n",
      "2\n",
      "3\n",
      "4\n",
      "5\n",
      "6\n",
      "7\n",
      "8\n",
      "9\n",
      "10\n"
     ]
    }
   ],
   "source": [
    "x = 0 \n",
    "while x <= 10:\n",
    "    print(x)\n",
    "    x += 1\n",
    "\n"
   ]
  },
  {
   "cell_type": "markdown",
   "metadata": {},
   "source": [
    "Programa que receba o numero e mostre o calculo da tabuada"
   ]
  },
  {
   "cell_type": "code",
   "execution_count": 4,
   "metadata": {},
   "outputs": [
    {
     "name": "stdout",
     "output_type": "stream",
     "text": [
      "**********************tabuada simples***********************\n",
      "5*1 = 5\n",
      "5*2 = 10\n",
      "5*3 = 15\n",
      "5*4 = 20\n",
      "5*5 = 25\n",
      "5*6 = 30\n",
      "5*7 = 35\n",
      "5*8 = 40\n",
      "5*9 = 45\n",
      "5*10 = 50\n"
     ]
    }
   ],
   "source": [
    "from os import system\n",
    "system ('cls')\n",
    "titulo = 'tabuada simples'\n",
    "print(titulo.center(60, '*'))\n",
    "\n",
    "mult = int(input('\\ninforme o multiplicador'))\n",
    "\n",
    "x = 1\n",
    "while x <= 10:\n",
    "    print(f'{mult}*{x} = {mult * x}')\n",
    "    x += 1"
   ]
  },
  {
   "cell_type": "code",
   "execution_count": 1,
   "metadata": {},
   "outputs": [
    {
     "name": "stdout",
     "output_type": "stream",
     "text": [
      "0\n",
      "1\n",
      "2\n",
      "3\n",
      "4\n",
      "50% concluido\n",
      "5\n",
      "6\n",
      "7\n",
      "8\n",
      "9\n",
      "100% processo encerrado\n",
      "10\n",
      "11\n",
      "12\n",
      "13\n",
      "14\n",
      "15\n",
      "16\n",
      "17\n",
      "18\n",
      "19\n",
      "20\n",
      "21\n",
      "22\n",
      "23\n",
      "24\n",
      "25\n",
      "26\n",
      "27\n",
      "28\n",
      "29\n",
      "30\n",
      "31\n",
      "32\n",
      "33\n",
      "34\n",
      "35\n",
      "36\n",
      "37\n",
      "38\n",
      "39\n",
      "40\n",
      "41\n",
      "42\n",
      "43\n",
      "44\n",
      "45\n",
      "46\n",
      "47\n",
      "48\n",
      "49\n",
      "50\n",
      "51\n",
      "52\n",
      "53\n",
      "54\n",
      "55\n",
      "56\n",
      "57\n",
      "58\n",
      "59\n",
      "60\n",
      "61\n",
      "62\n",
      "63\n",
      "64\n",
      "65\n",
      "66\n",
      "67\n",
      "68\n",
      "69\n",
      "70\n",
      "71\n",
      "72\n",
      "73\n",
      "74\n",
      "75\n",
      "76\n",
      "77\n",
      "78\n",
      "79\n",
      "80\n",
      "81\n",
      "82\n",
      "83\n",
      "84\n",
      "85\n",
      "86\n",
      "87\n",
      "88\n",
      "89\n",
      "90\n",
      "91\n",
      "92\n",
      "93\n",
      "94\n",
      "95\n",
      "96\n",
      "97\n",
      "98\n",
      "99\n",
      "100\n"
     ]
    }
   ],
   "source": [
    "num = 0\n",
    "total = 100\n",
    "\n",
    "while num <= total:\n",
    "    print(num)\n",
    "    num += 1\n",
    "    if num == 5:\n",
    "        print(f'50% concluido')\n",
    "    if num == 10:\n",
    "        print(f'100% processo encerrado')    "
   ]
  },
  {
   "cell_type": "markdown",
   "metadata": {},
   "source": [
    "jogo da adivinhação"
   ]
  },
  {
   "cell_type": "code",
   "execution_count": 4,
   "metadata": {},
   "outputs": [
    {
     "name": "stdout",
     "output_type": "stream",
     "text": [
      "********************jogo da adivinhação*********************\n",
      "8\n",
      "é maior , tente denovo\n",
      "é maior , tente denovo\n",
      "é maior , tente denovo\n",
      "UHUUUUUULL VC ACERTOU  8\n"
     ]
    }
   ],
   "source": [
    "from os import system\n",
    "import random\n",
    "system ('cls')\n",
    "titulo = 'jogo da adivinhação'\n",
    "print(titulo.center(60, '*'))\n",
    "\n",
    "num = random.randint(1,10)\n",
    "\n",
    "tentativa = int(input('adivinhe o numero de  a 10: (0 - para sair'))\n",
    "while tentativa > 0:\n",
    "    if  tentativa > num:\n",
    "        print('é menor, tente denovo')\n",
    "    elif tentativa < num:\n",
    "        print('é maior , tente denovo')\n",
    "    else:\n",
    "        print(f'UHUUUUUULL VC ACERTOU  {num}')\n",
    "        break\n",
    "    tentativa = int(input('adivinhe o numero de 1 a 10: (0 - para sair'))            \n",
    "\n"
   ]
  },
  {
   "cell_type": "markdown",
   "metadata": {},
   "source": [
    "Numero primo"
   ]
  },
  {
   "cell_type": "code",
   "execution_count": 8,
   "metadata": {},
   "outputs": [
    {
     "name": "stdout",
     "output_type": "stream",
     "text": [
      "***************verificador de numeros primos****************\n",
      "o numero é primo\n"
     ]
    }
   ],
   "source": [
    "from os import system\n",
    "system ('cls')\n",
    "titulo = 'verificador de numeros primos'\n",
    "print(titulo.center(60, '*'))\n",
    "\n",
    "num = int(input('digite um numero inteiro: '))\n",
    "\n",
    "resultado = 'o numero é primo'\n",
    "i = 2\n",
    "while i < num:\n",
    "    resto = num % i\n",
    "    if resto == 0:\n",
    "        resultado = 'o numero não é primo'\n",
    "        break\n",
    "    i  += 1\n",
    "print(resultado)\n"
   ]
  },
  {
   "cell_type": "markdown",
   "metadata": {},
   "source": [
    "Calculadora simples"
   ]
  },
  {
   "cell_type": "code",
   "execution_count": 12,
   "metadata": {},
   "outputs": [
    {
     "name": "stdout",
     "output_type": "stream",
     "text": [
      "####################calculadora simples#####################\n",
      "escolha uma das opções do menu\n",
      " (+) - adição\n",
      " (-) - Subtração\n",
      " (*) - multiplicação\n",
      " (/) - divisão\n",
      "\n",
      "você escolheu a operação de  o resultado é:9.0\n",
      "escolha uma das opções do menu\n",
      " (+) - adição\n",
      " (-) - Subtração\n",
      " (*) - multiplicação\n",
      " (/) - divisão\n",
      "\n"
     ]
    }
   ],
   "source": [
    "from os import system\n",
    "system('cls')\n",
    "titulo = 'calculadora simples'\n",
    "print(titulo.center(60, '#'))\n",
    "\n",
    "print('escolha uma das opções do menu')\n",
    "print(' (+) - adição\\n (-) - Subtração\\n (*) - multiplicação\\n (/) - divisão\\n')\n",
    "opcao = input ('opcao: ')\n",
    "opcao = ''\n",
    "while opcao != 's':\n",
    "   \n",
    "    \n",
    "    num1 = float(input('informe o primeiro valor:'))\n",
    "    num2 = float(input('informe o segundo valor:'))\n",
    "\n",
    "    if opcao == '+':\n",
    "        resultado = num1 + num2\n",
    "    if opcao == '-':\n",
    "        resultado = num1 - num2\n",
    "    if opcao == '*':\n",
    "        resultado = num1 * num2\n",
    "    if opcao == '/':\n",
    "        resultado = num1 / num2\n",
    "    \n",
    "    print(f'você escolheu a operação de {opcao} o resultado é:{resultado}')\n",
    "    print('escolha uma das opções do menu')\n",
    "    print(' (+) - adição\\n (-) - Subtração\\n (*) - multiplicação\\n (/) - divisão\\n')\n",
    "    opcao = input ('opcao: ')\n",
    "\n"
   ]
  },
  {
   "cell_type": "markdown",
   "metadata": {},
   "source": [
    "Estrutura de repetição usando FOR"
   ]
  },
  {
   "cell_type": "code",
   "execution_count": 13,
   "metadata": {},
   "outputs": [
    {
     "name": "stdout",
     "output_type": "stream",
     "text": [
      "arroz\n",
      "feijão\n",
      "macarrão\n",
      "carne\n",
      "queijo\n"
     ]
    }
   ],
   "source": [
    "compras = ['arroz','feijão','macarrão','carne', 'queijo']\n",
    "\n",
    "for item in compras:\n",
    "    print(item)"
   ]
  },
  {
   "cell_type": "code",
   "execution_count": 14,
   "metadata": {},
   "outputs": [
    {
     "name": "stdout",
     "output_type": "stream",
     "text": [
      "0\n",
      "1\n",
      "2\n",
      "3\n",
      "4\n",
      "5\n",
      "6\n",
      "7\n",
      "8\n",
      "9\n"
     ]
    }
   ],
   "source": [
    "for i in range(0,10):\n",
    "    print(i)"
   ]
  },
  {
   "cell_type": "code",
   "execution_count": 16,
   "metadata": {},
   "outputs": [
    {
     "name": "stdout",
     "output_type": "stream",
     "text": [
      "5 x 1 = 5\n",
      "5 x 2 = 10\n",
      "5 x 3 = 15\n",
      "5 x 4 = 20\n",
      "5 x 5 = 25\n",
      "5 x 6 = 30\n",
      "5 x 7 = 35\n",
      "5 x 8 = 40\n",
      "5 x 9 = 45\n",
      "5 x 10 = 50\n"
     ]
    }
   ],
   "source": [
    "multiplicador = int(input('informe valor para tabuada:'))\n",
    "\n",
    "for i in range(1,11):\n",
    "    print(f'{multiplicador} x {i} = {multiplicador * i}')"
   ]
  },
  {
   "cell_type": "code",
   "execution_count": 17,
   "metadata": {},
   "outputs": [
    {
     "name": "stdout",
     "output_type": "stream",
     "text": [
      "0\n",
      "2\n",
      "4\n",
      "6\n",
      "8\n",
      "10\n",
      "12\n",
      "14\n",
      "16\n",
      "18\n",
      "20\n",
      "22\n",
      "24\n",
      "26\n",
      "28\n",
      "30\n",
      "32\n",
      "34\n",
      "36\n",
      "38\n",
      "40\n",
      "42\n",
      "44\n",
      "46\n",
      "48\n",
      "50\n",
      "52\n",
      "54\n",
      "56\n",
      "58\n",
      "60\n",
      "62\n",
      "64\n",
      "66\n",
      "68\n",
      "70\n",
      "72\n",
      "74\n",
      "76\n",
      "78\n",
      "80\n",
      "82\n",
      "84\n",
      "86\n",
      "88\n",
      "90\n",
      "92\n",
      "94\n",
      "96\n",
      "98\n",
      "100\n"
     ]
    }
   ],
   "source": [
    "for i in range(0,101, 2):\n",
    "    print(i)"
   ]
  },
  {
   "cell_type": "code",
   "execution_count": 19,
   "metadata": {},
   "outputs": [
    {
     "name": "stdout",
     "output_type": "stream",
     "text": [
      "10\n",
      "9\n",
      "8\n",
      "7\n",
      "6\n",
      "5\n",
      "4\n",
      "3\n",
      "2\n",
      "1\n"
     ]
    }
   ],
   "source": [
    "for i in range(10, 0, -1):\n",
    "    print(i)"
   ]
  },
  {
   "cell_type": "code",
   "execution_count": 21,
   "metadata": {},
   "outputs": [
    {
     "name": "stdout",
     "output_type": "stream",
     "text": [
      "45\n"
     ]
    }
   ],
   "source": [
    "num = [9,5,6,4,7,1,2,3,8,0]\n",
    "soma = 0\n",
    "for i in num:\n",
    "    soma +=i\n",
    " #soma = soma +i\n",
    "print(soma)    "
   ]
  }
 ],
 "metadata": {
  "interpreter": {
   "hash": "4501266478d310386b0f6f856fab491bc36fdad875eada08785f11b6664d716d"
  },
  "kernelspec": {
   "display_name": "Python 3.10.8 64-bit (windows store)",
   "language": "python",
   "name": "python3"
  },
  "language_info": {
   "codemirror_mode": {
    "name": "ipython",
    "version": 3
   },
   "file_extension": ".py",
   "mimetype": "text/x-python",
   "name": "python",
   "nbconvert_exporter": "python",
   "pygments_lexer": "ipython3",
   "version": "3.11.0"
  },
  "orig_nbformat": 4
 },
 "nbformat": 4,
 "nbformat_minor": 2
}
